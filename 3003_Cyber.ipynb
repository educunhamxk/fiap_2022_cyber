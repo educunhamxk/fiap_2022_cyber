{
  "nbformat": 4,
  "nbformat_minor": 0,
  "metadata": {
    "colab": {
      "name": "22303_Cyber.ipynb",
      "provenance": [],
      "collapsed_sections": [],
      "authorship_tag": "ABX9TyONuHkKpPtLFEdCBzuN8kFo",
      "include_colab_link": true
    },
    "kernelspec": {
      "name": "python3",
      "display_name": "Python 3"
    },
    "language_info": {
      "name": "python"
    }
  },
  "cells": [
    {
      "cell_type": "markdown",
      "metadata": {
        "id": "view-in-github",
        "colab_type": "text"
      },
      "source": [
        "<a href=\"https://colab.research.google.com/github/educunhamxk/fiap_2022_cyber/blob/main/3003_Cyber.ipynb\" target=\"_parent\"><img src=\"https://colab.research.google.com/assets/colab-badge.svg\" alt=\"Open In Colab\"/></a>"
      ]
    },
    {
      "cell_type": "code",
      "execution_count": 22,
      "metadata": {
        "colab": {
          "base_uri": "https://localhost:8080/"
        },
        "id": "AI84zqJ0KXDM",
        "outputId": "bb8d670e-0271-4e42-8a89-ee2662a76ebb"
      },
      "outputs": [
        {
          "output_type": "stream",
          "name": "stdout",
          "text": [
            "Requirement already satisfied: fuzzywuzzy[speedup] in /usr/local/lib/python3.7/dist-packages (0.18.0)\n",
            "Requirement already satisfied: python-levenshtein>=0.12 in /usr/local/lib/python3.7/dist-packages (from fuzzywuzzy[speedup]) (0.12.2)\n",
            "Requirement already satisfied: setuptools in /usr/local/lib/python3.7/dist-packages (from python-levenshtein>=0.12->fuzzywuzzy[speedup]) (57.4.0)\n"
          ]
        }
      ],
      "source": [
        "!pip install fuzzywuzzy[speedup]"
      ]
    },
    {
      "cell_type": "code",
      "source": [
        "from fuzzywuzzy import process"
      ],
      "metadata": {
        "id": "DW5uHLRmKv5T"
      },
      "execution_count": 2,
      "outputs": []
    },
    {
      "cell_type": "code",
      "source": [
        "lista = [\"arma\", \"pistola\", \"ak47\", \"fuzil\", \"metralhadora\", \"AAC Honey Badger PDW\", \"Accuracy International AS50\", \"Ag m/42\", \"AGM-1 Carbine\", \"AK-22\",  \"AK-74\", \"AK74U\", \"AMT Lightning 25/22\", \"AR-57\", \"Armalite AR-7\", \"Armscor AK22\", \"AWC G2\",\"Barrett M82\",\"Barrett XM109\",\"Barrett XM500\",\"Benelli Argo\",\"Benelli Argo Comfortech\",\"Benelli Argo EL\",\"Benelli MR1\",\"Beretta BM59\",\"Beretta Cx4 Storm\",\"Beretta Rx4 Storm\",\"Berkut rifle\",\"Breda M1935 PG Rifle\",\"Browning 22 Semi-Auto rifle\",\"Browning BAR\",\"Bushmaster M4 Type Carbine\",\"Bushmaster XM-15\",\"Calico Liberty\",\"Calico M100\",\"Carbon 15\",\"Charlton Automatic Rifle\",\"Colt AR-15\",\"Crazy Horse rifle\",\"CZ 511\",\"ČZW-127\",\"Demro TAC-1\",\"Dragunov sniper rifle\",\"Dragunov SVU\",\"FAMAE FD-200\",\"FEG Model 58\",\"FN FAL\",\"FN FNAR\",\"FN Model 1949\",\"Fusil Automatique Modèle 1917\",\"General Liu rifle\",\"German Sport Guns GSG-5\",\"Gewehr 41\",\"Gewehr 43\",\"Hakim Rifle\",\"Harris Gun Works M-96\",\"Heckler & Koch HK41\",\"Heckler & Koch HK43\",\"Heckler & Koch PSG1\",\"Heckler & Koch SL7\",\"Heckler & Koch SL8\",\"Heckler & Koch SR9\",\"Heckler & Koch HK416\",\"Hi-Point Carbine\",\"Howa Type 64\",\"Howard Francis machine carbine\",\"Howell Automatic Rifle\",\"Itajubá Model 954 Mosquetão\",\"KAL1 General Purpose Infantry Rifle\",\"Kbsp wz. 1938M\",\"Kel-Tec RFB\",\"Kel-Tec SU-16\",\"Kel-Tec SUB-2000\",\"Kintrek KBP-1\",\"L1A1 Self-Loading Rifle\",\"M110 Semi-Automatic Sniper System\",\"M1941 Johnson rifle\",\"M1922 Bang rifle\",\"M1947 Johnson auto carbine\",\"M1 carbine\",\"M1 Garand\",\"M21 Sniper Weapon System\",\"M25 Sniper Weapon System\",\"M39 Enhanced Marksman Rifle\",\"M4A1\",\"M4A4\",\"M89SR sniper rifle\",\"M16A1\",\"[[Marine Sco[Norinco JW-20]]\",\"Norinco NHM 91\",\"Olin/Winchester Salvo Rifle\",\"Pauza P-50\",\"Pedersen rifle\",\"Preetz Model 65\",\"PSL (rifle)\",\"PTR 91F\",\"QBU-88\",\"Rasheed Carbine\",\"Remington Model Four\",\"Remington Model 8\",\"Remington Model 24\",\"Remington Model 522 Viper\",\"Remington Model 552\",\"Remington Model 597\",\"Remington Model 740\",\"Remington Model 742\",\"Remington Nylon 66\",\"Remington Semi Automatic Sniper System\",\"Rieder Automatic Rifle\",\"Robinson Armament M96 Expeditionary\",\"Ruger 10/17\",\"Ruger 10/22\",\"Ruger Deerfield Carbine\",\"Ruger Mini-14\",\"Ruger Mini-30\",\"Ruger Model 44\",\"Ruger Police Carbine\",\"Ruger SR-556\",\"Ruger XGI\",\"Saiga semi-automatic rifle\",\"Savage Model 64\",\"SCAR-L\",\"SIG Sauer SIGM400\",\"SIG Sauer SIG516\",\"SIG Sauer SIG556xi\",\"SIG 522LR\",\"SKS\",\"Smith & Wesson M&P10\",\"Smith & Wesson M&P15\",\"Smith & Wesson M&P15-22\",\"SOCOM II Rifle\",\"Springfield Armory M1A\",\"SR-25\",\"Steyr IWS 2000\",\"STK SSW (arma de fogo)\",\"Sturmgewehr 58\",\"SVT-40\",\"Tabuk Sniper Rifle\",\"Terry Carbine\",\"Thompson Autorifle\",\"Fuzil Designado de Atirador do Corpo de Marinheiros dos Estados Unidos\",\"UMP45\",\"Volkssturmgewehr\",\"Vulcan V18\",\"Vz. 52 rifle\",\"Walther G22\",\"Walther WA 2000\",\"Winchester Model 1905\",\"Winchester Model 1907\",\"Winchester Model 1910\",\"Winchester model 30\",\"Zastava M76\",\"Zastava M91\",\"Zijiang M99\"]\n",
        "\n",
        "texto = input(\"Digite o texto: \")\n",
        "\n",
        "process.extract(texto,lista)"
      ],
      "metadata": {
        "colab": {
          "base_uri": "https://localhost:8080/"
        },
        "id": "JRmkBb4bLNCw",
        "outputId": "45ea6828-634a-4123-953d-902ada32ec68"
      },
      "execution_count": 3,
      "outputs": [
        {
          "name": "stdout",
          "output_type": "stream",
          "text": [
            "Digite o texto: armmmmm\n"
          ]
        },
        {
          "output_type": "execute_result",
          "data": {
            "text/plain": [
              "[('arma', 68),\n",
              " ('Robinson Armament M96 Expeditionary', 51),\n",
              " ('Armalite AR-7', 39),\n",
              " ('Armscor AK22', 39),\n",
              " ('Bushmaster M4 Type Carbine', 39)]"
            ]
          },
          "metadata": {},
          "execution_count": 3
        }
      ]
    },
    {
      "cell_type": "code",
      "source": [
        "def getMatch(field):\n",
        "  match_list = {\"arma\", \"pistola\", \"ak47\", \"fuzil\", \"metralhadora\", \"AAC Honey Badger PDW\", \"Accuracy International AS50\", \"Ag m/42\", \"AGM-1 Carbine\", \"AK-22\",  \"AK-74\", \"AK74U\", \"AMT Lightning 25/22\", \"AR-57\", \"Armalite AR-7\", \"Armscor AK22\", \"AWC G2\",\"Barrett M82\",\"Barrett XM109\",\"Barrett XM500\",\"Benelli Argo\",\"Benelli Argo Comfortech\",\"Benelli Argo EL\",\"Benelli MR1\",\"Beretta BM59\",\"Beretta Cx4 Storm\",\"Beretta Rx4 Storm\",\"Berkut rifle\",\"Breda M1935 PG Rifle\",\"Browning 22 Semi-Auto rifle\",\"Browning BAR\",\"Bushmaster M4 Type Carbine\",\"Bushmaster XM-15\",\"Calico Liberty\",\"Calico M100\",\"Carbon 15\",\"Charlton Automatic Rifle\",\"Colt AR-15\",\"Crazy Horse rifle\",\"CZ 511\",\"ČZW-127\",\"Demro TAC-1\",\"Dragunov sniper rifle\",\"Dragunov SVU\",\"FAMAE FD-200\",\"FEG Model 58\",\"FN FAL\",\"FN FNAR\",\"FN Model 1949\",\"Fusil Automatique Modèle 1917\",\"General Liu rifle\",\"German Sport Guns GSG-5\",\"Gewehr 41\",\"Gewehr 43\",\"Hakim Rifle\",\"Harris Gun Works M-96\",\"Heckler & Koch HK41\",\"Heckler & Koch HK43\",\"Heckler & Koch PSG1\",\"Heckler & Koch SL7\",\"Heckler & Koch SL8\",\"Heckler & Koch SR9\",\"Heckler & Koch HK416\",\"Hi-Point Carbine\",\"Howa Type 64\",\"Howard Francis machine carbine\",\"Howell Automatic Rifle\",\"Itajubá Model 954 Mosquetão\",\"KAL1 General Purpose Infantry Rifle\",\"Kbsp wz. 1938M\",\"Kel-Tec RFB\",\"Kel-Tec SU-16\",\"Kel-Tec SUB-2000\",\"Kintrek KBP-1\",\"L1A1 Self-Loading Rifle\",\"M110 Semi-Automatic Sniper System\",\"M1941 Johnson rifle\",\"M1922 Bang rifle\",\"M1947 Johnson auto carbine\",\"M1 carbine\",\"M1 Garand\",\"M21 Sniper Weapon System\",\"M25 Sniper Weapon System\",\"M39 Enhanced Marksman Rifle\",\"M4A1\",\"M4A4\",\"M89SR sniper rifle\",\"M16A1\",\"[[Marine Sco[Norinco JW-20]]\",\"Norinco NHM 91\",\"Olin/Winchester Salvo Rifle\",\"Pauza P-50\",\"Pedersen rifle\",\"Preetz Model 65\",\"PSL (rifle)\",\"PTR 91F\",\"QBU-88\",\"Rasheed Carbine\",\"Remington Model Four\",\"Remington Model 8\",\"Remington Model 24\",\"Remington Model 522 Viper\",\"Remington Model 552\",\"Remington Model 597\",\"Remington Model 740\",\"Remington Model 742\",\"Remington Nylon 66\",\"Remington Semi Automatic Sniper System\",\"Rieder Automatic Rifle\",\"Robinson Armament M96 Expeditionary\",\"Ruger 10/17\",\"Ruger 10/22\",\"Ruger Deerfield Carbine\",\"Ruger Mini-14\",\"Ruger Mini-30\",\"Ruger Model 44\",\"Ruger Police Carbine\",\"Ruger SR-556\",\"Ruger XGI\",\"Saiga semi-automatic rifle\",\"Savage Model 64\",\"SCAR-L\",\"SIG Sauer SIGM400\",\"SIG Sauer SIG516\",\"SIG Sauer SIG556xi\",\"SIG 522LR\",\"SKS\",\"Smith & Wesson M&P10\",\"Smith & Wesson M&P15\",\"Smith & Wesson M&P15-22\",\"SOCOM II Rifle\",\"Springfield Armory M1A\",\"SR-25\",\"Steyr IWS 2000\",\"STK SSW (arma de fogo)\",\"Sturmgewehr 58\",\"SVT-40\",\"Tabuk Sniper Rifle\",\"Terry Carbine\",\"Thompson Autorifle\",\"Fuzil Designado de Atirador do Corpo de Marinheiros dos Estados Unidos\",\"UMP45\",\"Volkssturmgewehr\",\"Vulcan V18\",\"Vz. 52 rifle\",\"Walther G22\",\"Walther WA 2000\",\"Winchester Model 1905\",\"Winchester Model 1907\",\"Winchester Model 1910\",\"Winchester model 30\",\"Zastava M76\",\"Zastava M91\",\"Zijiang M99\"}\n",
        "  search_list = process.extract(field, match_list)\n",
        "\n",
        "  result = []\n",
        "\n",
        "  for text in search_list:\n",
        "      if text[1] > 54:\n",
        "        result.append(text)\n",
        "\n",
        "  if len(result) == 0:\n",
        "    return 'Produto proibido? Não'\n",
        "  return 'Produto proibido? Sim'\n",
        "\n",
        "getMatch(input())\n"
      ],
      "metadata": {
        "colab": {
          "base_uri": "https://localhost:8080/",
          "height": 52
        },
        "id": "4ZjxhwsLLTtp",
        "outputId": "53cc3c61-f66e-4195-8b1a-c88dadaecf3e"
      },
      "execution_count": 28,
      "outputs": [
        {
          "name": "stdout",
          "output_type": "stream",
          "text": [
            "quanto custa esse missil?\n"
          ]
        },
        {
          "output_type": "execute_result",
          "data": {
            "text/plain": [
              "'Produto proibido? Não'"
            ],
            "application/vnd.google.colaboratory.intrinsic+json": {
              "type": "string"
            }
          },
          "metadata": {},
          "execution_count": 28
        }
      ]
    }
  ]
}