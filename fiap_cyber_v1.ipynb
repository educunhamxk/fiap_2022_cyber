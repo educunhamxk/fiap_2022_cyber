{
  "nbformat": 4,
  "nbformat_minor": 0,
  "metadata": {
    "colab": {
      "name": "Untitled0.ipynb",
      "provenance": [],
      "authorship_tag": "ABX9TyPPKTLWG4KIo5m4QqVaR8SW",
      "include_colab_link": true
    },
    "kernelspec": {
      "name": "python3",
      "display_name": "Python 3"
    },
    "language_info": {
      "name": "python"
    }
  },
  "cells": [
    {
      "cell_type": "markdown",
      "metadata": {
        "id": "view-in-github",
        "colab_type": "text"
      },
      "source": [
        "<a href=\"https://colab.research.google.com/github/educunhamxk/fiap_2022_cyber/blob/main/fiap_cyber_v1.ipynb\" target=\"_parent\"><img src=\"https://colab.research.google.com/assets/colab-badge.svg\" alt=\"Open In Colab\"/></a>"
      ]
    },
    {
      "cell_type": "code",
      "execution_count": null,
      "metadata": {
        "id": "GYhY95PZEnD3"
      },
      "outputs": [],
      "source": [
        ""
      ]
    },
    {
      "cell_type": "markdown",
      "source": [
        "Identificação de armas de fogo no e-commerce"
      ],
      "metadata": {
        "id": "FOkfdWtUFDu7"
      }
    },
    {
      "cell_type": "code",
      "source": [
        "lista =  [\"arma\", \"pistola\", \"ak47\", \"fuzil\", \"metralhadora\", \"AAC Honey Badger PDW\", \"Accuracy International AS50\", \"Ag m/42\", \"AGM-1 Carbine\", \"AK-22\",  \"AK-74\", \"AK74U\", \"AMT Lightning 25/22\", \"AR-57\", \"Armalite AR-7\", \"Armscor AK22\", \"AWC G2\",\"Barrett M82\",\"Barrett XM109\",\"Barrett XM500\",\"Benelli Argo\",\"Benelli Argo Comfortech\",\"Benelli Argo EL\",\"Benelli MR1\",\"Beretta BM59\",\"Beretta Cx4 Storm\",\"Beretta Rx4 Storm\",\"Berkut rifle\",\"Breda M1935 PG Rifle\",\"Browning 22 Semi-Auto rifle\",\"Browning BAR\",\"Bushmaster M4 Type Carbine\",\"Bushmaster XM-15\",\"Calico Liberty\",\"Calico M100\",\"Carbon 15\",\"Charlton Automatic Rifle\",\"Colt AR-15\",\"Crazy Horse rifle\",\"CZ 511\",\"ČZW-127\",\"Demro TAC-1\",\"Dragunov sniper rifle\",\"Dragunov SVU\",\"FAMAE FD-200\",\"FEG Model 58\",\"FN FAL\",\"FN FNAR\",\"FN Model 1949\",\"Fusil Automatique Modèle 1917\",\"General Liu rifle\",\"German Sport Guns GSG-5\",\"Gewehr 41\",\"Gewehr 43\",\"Hakim Rifle\",\"Harris Gun Works M-96\",\"Heckler & Koch HK41\",\"Heckler & Koch HK43\",\"Heckler & Koch PSG1\",\"Heckler & Koch SL7\",\"Heckler & Koch SL8\",\"Heckler & Koch SR9\",\"Heckler & Koch HK416\",\"Hi-Point Carbine\",\"Howa Type 64\",\"Howard Francis machine carbine\",\"Howell Automatic Rifle\",\"Itajubá Model 954 Mosquetão\",\"KAL1 General Purpose Infantry Rifle\",\"Kbsp wz. 1938M\",\"Kel-Tec RFB\",\"Kel-Tec SU-16\",\"Kel-Tec SUB-2000\",\"Kintrek KBP-1\",\"L1A1 Self-Loading Rifle\",\"M110 Semi-Automatic Sniper System\",\"M1941 Johnson rifle\",\"M1922 Bang rifle\",\"M1947 Johnson auto carbine\",\"M1 carbine\",\"M1 Garand\",\"M21 Sniper Weapon System\",\"M25 Sniper Weapon System\",\"M39 Enhanced Marksman Rifle\",\"M4A1\",\"M4A4\",\"M89SR sniper rifle\",\"M16A1\",\"[[Marine Sco[Norinco JW-20]]\",\"Norinco NHM 91\",\"Olin/Winchester Salvo Rifle\",\"Pauza P-50\",\"Pedersen rifle\",\"Preetz Model 65\",\"PSL (rifle)\",\"PTR 91F\",\"QBU-88\",\"Rasheed Carbine\",\"Remington Model Four\",\"Remington Model 8\",\"Remington Model 24\",\"Remington Model 522 Viper\",\"Remington Model 552\",\"Remington Model 597\",\"Remington Model 740\",\"Remington Model 742\",\"Remington Nylon 66\",\"Remington Semi Automatic Sniper System\",\"Rieder Automatic Rifle\",\"Robinson Armament M96 Expeditionary\",\"Ruger 10/17\",\"Ruger 10/22\",\"Ruger Deerfield Carbine\",\"Ruger Mini-14\",\"Ruger Mini-30\",\"Ruger Model 44\",\"Ruger Police Carbine\",\"Ruger SR-556\",\"Ruger XGI\",\"Saiga semi-automatic rifle\",\"Savage Model 64\",\"SCAR-L\",\"SIG Sauer SIGM400\",\"SIG Sauer SIG516\",\"SIG Sauer SIG556xi\",\"SIG 522LR\",\"SKS\",\"Smith & Wesson M&P10\",\"Smith & Wesson M&P15\",\"Smith & Wesson M&P15-22\",\"SOCOM II Rifle\",\"Springfield Armory M1A\",\"SR-25\",\"Steyr IWS 2000\",\"STK SSW (arma de fogo)\",\"Sturmgewehr 58\",\"SVT-40\",\"Tabuk Sniper Rifle\",\"Terry Carbine\",\"Thompson Autorifle\",\"Fuzil Designado de Atirador do Corpo de Marinheiros dos Estados Unidos\",\"UMP45\",\"Volkssturmgewehr\",\"Vulcan V18\",\"Vz. 52 rifle\",\"Walther G22\",\"Walther WA 2000\",\"Winchester Model 1905\",\"Winchester Model 1907\",\"Winchester Model 1910\",\"Winchester model 30\",\"Zastava M76\",\"Zastava M91\",\"Zijiang M99\"]"
      ],
      "metadata": {
        "id": "UqvCz6-hGIUw"
      },
      "execution_count": null,
      "outputs": []
    },
    {
      "cell_type": "code",
      "source": [
        "texto = input()\n",
        "if (texto.strip() in lista):\n",
        "    print(\"Item proibido\")\n",
        "else: \n",
        "    print(\"Item permitido\")"
      ],
      "metadata": {
        "colab": {
          "base_uri": "https://localhost:8080/"
        },
        "id": "nMIjTgcT0yhY",
        "outputId": "1fe5f89f-796f-43b3-c165-b8c451216a96"
      },
      "execution_count": null,
      "outputs": [
        {
          "output_type": "stream",
          "name": "stdout",
          "text": [
            "ak    47\n",
            "Item permitido\n"
          ]
        }
      ]
    },
    {
      "cell_type": "code",
      "source": [
        "import re\n",
        "\n",
        "def getMatchRegex(field):\n",
        "  match = re.search('(?i)(arma)(pistola)(revolver)(Armscor M16 22)|(AWC G2)|(Barrett M82)|(Barrett XM109)|(Barrett XM500)|(Benelli Argo)|(Benelli Argo Comfortech)|(Benelli Argo EL)|(Benelli MR1)|(Beretta BM59)|(Beretta Cx4 Storm)|(Beretta Rx4 Storm)|(Berkut rifle)|(Breda M1935 PG Rifle)|(Browning 22 Semi-Auto rifle)|(Browning BAR)|(Bushmaster M4 Type Carbine)|(Bushmaster XM-15)|(Calico Liberty)|(Calico M100)|(Carbon 15)|(Charlton Automatic Rifle)|(Colt AR-15)|(Crazy Horse rifle)|(CZ 511)|(CZW-127)|(Demro TAC-1)|(Dragunov sniper rifle)|(Dragunov SVU)|(FAMAE FD-200)|(FEG Model 58)|(FN FAL)|(FN FNAR)|(FN Model 1949)|(Fusil Automatique Modele 1917)|(General Liu rifle)|(German Sport Guns GSG-5)|(Gewehr 41)|(Gewehr 43)|(Hakim Rifle)|(Harris Gun Works M-96)|(Heckler & Koch HK41)|(Heckler & Koch HK43)|(Heckler & Koch PSG1)|(Heckler & Koch SL7)|(Heckler & Koch SL8)|(Heckler & Koch SR9)|(Heckler & Koch HK416)|(Hi-Point Carbine)|(Howa Type 64)|(Howard Francis machine carbine)|(Howell Automatic Rifle)|(Itajubá Model 954 Mosquetão)|(KAL1 General Purpose Infantry Rifle)|(Kbsp wz. 1938M)|(Kel-Tec RFB)|(Kel-Tec SU-16)|(Kel-Tec SUB-2000)|(Kintrek KBP-1)|(L1A1 Self-Loading Rifle)|(M110 Semi-Automatic Sniper System)|(M1941 Johnson rifle)|(M1922 Bang rifle)|(M1947 Johnson auto carbine)|(M1 carbine)|(M1 Garand)|(M21 Sniper Weapon System)|(M25 Sniper Weapon System)',field.lower())\n",
        "\n",
        "  if match:\n",
        "    print('Produto proibido? Sim')\n",
        "  else:\n",
        "    print('Produto proibido? Não')"
      ],
      "metadata": {
        "id": "LG-cfKV13jQa"
      },
      "execution_count": null,
      "outputs": []
    },
    {
      "cell_type": "code",
      "source": [
        " getMatchRegex(input())"
      ],
      "metadata": {
        "colab": {
          "base_uri": "https://localhost:8080/"
        },
        "id": "rkQ0m1NT697C",
        "outputId": "0fdde809-c16c-4b08-a125-28f4cee1446f"
      },
      "execution_count": null,
      "outputs": [
        {
          "output_type": "stream",
          "name": "stdout",
          "text": [
            "quanto custa esse missil?\n",
            "Produto proibido? Não\n"
          ]
        }
      ]
    },
    {
      "cell_type": "code",
      "source": [
        ""
      ],
      "metadata": {
        "id": "n1rBxWle-gYN"
      },
      "execution_count": null,
      "outputs": []
    }
  ]
}